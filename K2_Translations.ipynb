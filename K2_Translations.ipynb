{
 "cells": [
  {
   "cell_type": "code",
   "execution_count": 5,
   "metadata": {},
   "outputs": [
    {
     "name": "stdout",
     "output_type": "stream",
     "text": [
      "['en-US' 'ar-QA' 'es-ES']\n"
     ]
    }
   ],
   "source": [
    "import pandas as pd\n",
    "from deep_translator import GoogleTranslator\n",
    "                             \n",
    "default_language = 'en-US'\n",
    "df = pd.read_csv(r'TranslationExport-2024-10-04T10_25_36.csv')\n",
    "locales = df['Locale'].unique()\n",
    "\n",
    "print(locales)\n"
   ]
  },
  {
   "cell_type": "code",
   "execution_count": 6,
   "metadata": {},
   "outputs": [
    {
     "name": "stdout",
     "output_type": "stream",
     "text": [
      "Translate 'Request for Employee Study' to ar is طلب دراسة الموظف\n",
      "Translate 'Request for Employee Study' to es is Solicitud de estudio de empleados\n",
      "Translate 'Cancel' to ar is يلغي\n",
      "Translate 'Cancel' to es is Cancelar\n",
      "Translate 'Create' to ar is يخلق\n",
      "Translate 'Create' to es is Crear\n",
      "Translate 'Work related iisues' to ar is القضايا المتعلقة بالعمل\n",
      "Translate 'Work related iisues' to es is Cuestiones relacionadas con el trabajo\n",
      "Translate 'Degree Info' to ar is معلومات الدرجة\n",
      "Translate 'Degree Info' to es is Información de la titulación\n"
     ]
    }
   ],
   "source": [
    "#translator = Translator()\n",
    "\n",
    "for key in df['Key'].unique():\n",
    "    default_value = df.loc[(df[\"Key\"] == key) & (df['Locale'] == default_language), 'Value'].values[0]\n",
    "    for local in locales:\n",
    "        if not ((df['Key'] == key) & (df['Locale'] == local)).any():\n",
    "            local_dest = local.split('-')[0]\n",
    "            translation = GoogleTranslator(source='en', target=local_dest).translate(text=default_value)\n",
    "            print(f\"Translate '{default_value}' to {local_dest} is {translation}\")\n",
    "            df.loc[len(df)] = [key, local, translation, '', '']\n",
    "            #print(translation)"
   ]
  },
  {
   "cell_type": "code",
   "execution_count": 7,
   "metadata": {},
   "outputs": [
    {
     "name": "stdout",
     "output_type": "stream",
     "text": [
      "96\n"
     ]
    }
   ],
   "source": [
    "print(len(df))"
   ]
  },
  {
   "cell_type": "code",
   "execution_count": 8,
   "metadata": {},
   "outputs": [],
   "source": [
    "df.to_csv('output.csv', index=False)"
   ]
  }
 ],
 "metadata": {
  "kernelspec": {
   "display_name": "Python 3",
   "language": "python",
   "name": "python3"
  },
  "language_info": {
   "codemirror_mode": {
    "name": "ipython",
    "version": 3
   },
   "file_extension": ".py",
   "mimetype": "text/x-python",
   "name": "python",
   "nbconvert_exporter": "python",
   "pygments_lexer": "ipython3",
   "version": "3.12.4"
  }
 },
 "nbformat": 4,
 "nbformat_minor": 2
}
